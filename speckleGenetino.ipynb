{
 "cells": [
  {
   "cell_type": "code",
   "execution_count": 1,
   "id": "81116117",
   "metadata": {},
   "outputs": [],
   "source": [
    "import cv2\n",
    "%matplotlib notebook\n",
    "import matplotlib.pyplot as plt\n",
    "import numpy as np"
   ]
  },
  {
   "cell_type": "code",
   "execution_count": 2,
   "id": "8dadda6b",
   "metadata": {
    "scrolled": false
   },
   "outputs": [],
   "source": [
    "############\n",
    "#  INPUTS  #\n",
    "############\n",
    "dpi = 2400 # dots per inch\n",
    "dpmm = 0.03937 * dpi # dots per mm\n",
    "widthOfSampleMM = 100 # mm\n",
    "heightOfSampleMM = 100 # mm\n",
    "densities = np.round(np.linspace(0.1,0.8,int(0.7/0.1)),2) # 1 is very fine, 0 is not fine at all\n",
    "variations = np.linspace(0,1,5) # 1 is very bad, 0 is very good\n",
    "patternSizeMMs = np.round(np.linspace(0.15,0.85,int(0.7/0.014)),2) # mm\n",
    "############\n",
    "for density in densities:\n",
    "    for variation in variations:\n",
    "        for patternSizeMM in patternSizeMMs:\n",
    "            # conversions to pixels\n",
    "            widthOfSamplesPX = int(np.ceil(widthOfSampleMM*dpmm)) # get the width\n",
    "            widthOfSamplesPX = widthOfSamplesPX + 10 - widthOfSamplesPX % 10 # round up the width to nearest 10\n",
    "            heightOfSamplePX = int(np.ceil(heightOfSampleMM*dpmm)) # get the height\n",
    "            heightOfSamplePX = heightOfSamplePX + 10 - heightOfSamplePX % 10 # round up the height to nearest 10\n",
    "            patternSizePX = patternSizeMM*dpmm # this is the size of the pattern, so far I am going with circles\n",
    "            # init an empty image\n",
    "            im = 255*np.ones((heightOfSamplePX, widthOfSamplesPX), dtype = np.uint8)\n",
    "            # horizontal circle centres\n",
    "            numPoints = int(density*heightOfSamplePX/patternSizePX) # get number of patterns possible\n",
    "            if numPoints==1:\n",
    "                horizontal = [heightOfSamplePX // 2]\n",
    "            else:\n",
    "                horizontal = [int(i * heightOfSamplePX / (numPoints + 1)) for i in range(1, numPoints + 1)]\n",
    "            # vertical circle centres\n",
    "            numPoints = int(density*widthOfSamplesPX/patternSizePX)\n",
    "            if numPoints==1:\n",
    "                vertical = [widthOfSamplesPX // 2]\n",
    "            else:\n",
    "                vertical = [int(i * widthOfSamplesPX / (numPoints + 1)) for i in range(1, numPoints + 1)]\n",
    "            for i in vertical:\n",
    "                for j in horizontal:\n",
    "                    # generate the noisy information\n",
    "                    iWithNoise = i+variation*np.random.randint(-2*patternSizePX/density, +2*patternSizePX/density)\n",
    "                    jWithNoise = j+variation*np.random.randint(-2*patternSizePX/density, +2*patternSizePX/density)\n",
    "                    patternSizePXWithNoise = patternSizePX+patternSizePX*variation*(np.random.rand()-0.5)/2\n",
    "                    cv2.circle(im, (int(iWithNoise),int(jWithNoise)), int(patternSizePXWithNoise//2), 0, -1) # add circle\n",
    "            cv2.imwrite(format(patternSizeMM, '.2f').zfill(2).replace(\".\", \"p\")+\\\n",
    "                        \"x\"+format(density, '.2f').zfill(2).replace(\".\", \"p\")+\\\n",
    "                        \"x\"+format(variation, '.2f').replace(\".\", \"p\")+\\\n",
    "                        \".png\", \n",
    "                        im, [cv2.IMWRITE_PNG_COMPRESSION, 25])"
   ]
  }
 ],
 "metadata": {
  "kernelspec": {
   "display_name": "Python 3 (ipykernel)",
   "language": "python",
   "name": "python3"
  },
  "language_info": {
   "codemirror_mode": {
    "name": "ipython",
    "version": 3
   },
   "file_extension": ".py",
   "mimetype": "text/x-python",
   "name": "python",
   "nbconvert_exporter": "python",
   "pygments_lexer": "ipython3",
   "version": "3.11.5"
  }
 },
 "nbformat": 4,
 "nbformat_minor": 5
}
